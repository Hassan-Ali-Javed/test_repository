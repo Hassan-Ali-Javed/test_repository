{
  "metadata": {
    "language_info": {
      "codemirror_mode": {
        "name": "python",
        "version": 3
      },
      "file_extension": ".py",
      "mimetype": "text/x-python",
      "name": "python",
      "nbconvert_exporter": "python",
      "pygments_lexer": "ipython3",
      "version": "3.8"
    },
    "kernelspec": {
      "name": "python",
      "display_name": "Pyolite",
      "language": "python"
    }
  },
  "nbformat_minor": 4,
  "nbformat": 4,
  "cells": [
    {
      "cell_type": "markdown",
      "source": "<H1>\"My Jupyter Notebook on IBM Watson Studio\"</H1>",
      "metadata": {}
    },
    {
      "cell_type": "markdown",
      "source": "<b> Hassan Ali Javed </b>\n\nDatabase Administrator",
      "metadata": {}
    },
    {
      "cell_type": "markdown",
      "source": "<i> \"I am interested in data science because this is something new and hot\" </i>",
      "metadata": {}
    },
    {
      "cell_type": "markdown",
      "source": "<h3> It must be executed and must display an output. Try to keep the code simple (it can even be \"1 + 1\") </h3>",
      "metadata": {}
    },
    {
      "cell_type": "code",
      "source": "A=1\nB=1\nprint (A+B)",
      "metadata": {
        "trusted": true
      },
      "execution_count": null,
      "outputs": []
    },
    {
      "cell_type": "markdown",
      "source": "<p>§1: The first rule of a Data Scientist is to secure the data.</p>\n\n<hr>\n\n<p>§2: The second rule of a Data Scientist is to provide the analysis and insight of the Data.</p>\n<ul style=\"list-style-type:circle\">\n  <li>Coffee</li>\n  <li>Tea</li>\n  <li>Milk</li>\n</ul>\n\n<ul style=\"list-style-type:disc\">\n  <li>Data</li>\n  <li>Science</li>\n  <li>Network</li>\n</ul>\n\n<ul style=\"list-style-type:square\">\n  <li>Butter</li>\n  <li>Bread</li>\n  <li>Honey</li>\n</ul>",
      "metadata": {}
    },
    {
      "cell_type": "markdown",
      "source": "<table>\n  <tr>\n    <th>Company</th>\n    <th>Contact</th>\n    <th>Country</th>\n  </tr>\n  <tr>\n    <td>Alfreds Futterkiste</td>\n    <td>Maria Anders</td>\n    <td>Germany</td>\n  </tr>\n  <tr>\n    <td>Centro comercial Moctezuma</td>\n    <td>Francisco Chang</td>\n    <td>Mexico</td>\n  </tr>\n</table>",
      "metadata": {}
    },
    {
      "cell_type": "code",
      "source": "",
      "metadata": {},
      "execution_count": null,
      "outputs": []
    }
  ]
}